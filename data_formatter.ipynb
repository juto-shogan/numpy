{
 "cells": [
  {
   "cell_type": "code",
   "execution_count": 5,
   "metadata": {},
   "outputs": [
    {
     "name": "stdout",
     "output_type": "stream",
     "text": [
      "['' '11' '22' '33' '11' '2' '1' '33' '11' '1' '2' '1' '22,2' '11,1' '21'\n",
      " '32,33' '11' '13' '3' '11,1' '35,45' '67,6' '8' '87,87' '84' '53' '24,45'\n",
      " '45' '44' '43,4' '42' '5' '4' '35' '46' '3' '5' '3' '5' '3' '4' '4' '43'\n",
      " '43' '33,4' '34' '3' '43' '43' '34,3' '34,3' '46' '88,8' '87' '7' '3' '9'\n",
      " '9' '6' '6' '3' '4' '2' '8' '52,3' '8' '67' '4' '6' '2' '9' '7' '4' '2'\n",
      " '9' '6' '9' '6' '9' '6' '1' '46,5' '7' '9' '8' '7' '65' '3' '2' '0' '0'\n",
      " '0' '0' '0' '0' '0' '0' '0' '0' '0']\n"
     ]
    }
   ],
   "source": [
    "import numpy as np\n",
    "\n",
    "# Data provided as strings\n",
    "data = \"\"\"\n",
    "11,22,33,11,2,1,33,11,1,2,1,222,111,21,3233,11,13,3,111,3545,676,8,8787,84,53,2445,45,44,434,42,5,4,35,46,3,5,3,5,3,4\n",
    "4,43,43,334,34,3,43,43,343,343,46,888,87,7,3,9,9,6,6,3,4,2,8,523,8,67,4,6,2,9,7,4,2,9,6,9,6,9,6,1,465,7,9,8,7,65,3,2,0\n",
    "\"\"\"\n",
    "\n",
    "# Split the data into lines\n",
    "lines = data.splitlines()\n",
    "\n",
    "# Initialize an empty list to store the formatted data\n",
    "formatted_data = []\n",
    "\n",
    "# Iterate over each line\n",
    "for line in lines:\n",
    "    # Split the line into numbers\n",
    "    numbers = line.split(',')\n",
    "    # Format each number to have at most 2 digits before the comma\n",
    "    formatted_numbers = [f\"{num[:2]},{num[2:]}\" if len(num) > 2 else num for num in numbers]\n",
    "    # Group the formatted numbers into rows of at most 16\n",
    "    formatted_rows = [formatted_numbers[i:i+16] for i in range(0, len(formatted_numbers), 16)]\n",
    "    # Append the formatted rows to the formatted data list\n",
    "    formatted_data.extend(formatted_rows)\n",
    "\n",
    "# Flatten formatted_data into a single list\n",
    "flattened_data = np.concatenate(formatted_data)\n",
    "\n",
    "# Determine the desired array length and padding value\n",
    "desired_length = 100  # Replace with your desired length\n",
    "padding_value = 0  # Replace with your desired padding value\n",
    "\n",
    "# Pad the flattened data to the desired length\n",
    "padded_data = np.pad(flattened_data, (0, desired_length - len(flattened_data)), mode='constant', constant_values=padding_value)\n",
    "\n",
    "# Optional: Reshape the padded data (if desired)\n",
    "# reshaped_data = padded_data.reshape(number_of_rows, number_of_columns)\n",
    "\n",
    "# Print the padded data\n",
    "print(padded_data)  # This will print the one-dimensional array\n",
    "# Or, if you reshaped:\n",
    "# for row in reshaped_data:\n",
    "#     print(', '.join(row))"
   ]
  },
  {
   "cell_type": "code",
   "execution_count": 7,
   "metadata": {},
   "outputs": [],
   "source": [
    "import numpy as np\n",
    "\n",
    "# ... (your previous code)\n",
    "\n",
    "# Write the padded data to data.txt\n",
    "with open('data.txt', 'w') as file:\n",
    "    for row in padded_data:\n",
    "        line = ', '.join(row) + '\\n'\n",
    "        file.write(line)"
   ]
  },
  {
   "cell_type": "code",
   "execution_count": null,
   "metadata": {},
   "outputs": [],
   "source": []
  }
 ],
 "metadata": {
  "kernelspec": {
   "display_name": "globalEnv",
   "language": "python",
   "name": "python3"
  },
  "language_info": {
   "codemirror_mode": {
    "name": "ipython",
    "version": 3
   },
   "file_extension": ".py",
   "mimetype": "text/x-python",
   "name": "python",
   "nbconvert_exporter": "python",
   "pygments_lexer": "ipython3",
   "version": "3.11.2"
  }
 },
 "nbformat": 4,
 "nbformat_minor": 2
}
