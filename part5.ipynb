{
 "cells": [
  {
   "cell_type": "markdown",
   "metadata": {},
   "source": [
    "### Reorganzind Arrays"
   ]
  },
  {
   "cell_type": "code",
   "execution_count": 27,
   "metadata": {},
   "outputs": [],
   "source": [
    "import numpy as np \n",
    "import sys"
   ]
  },
  {
   "cell_type": "code",
   "execution_count": 28,
   "metadata": {},
   "outputs": [
    {
     "name": "stdout",
     "output_type": "stream",
     "text": [
      "[[1 2 3 4]\n",
      " [5 6 7 8]]\n",
      "[[1 2 3 4 5 6 7 8]]\n"
     ]
    }
   ],
   "source": [
    "before = np.array([[1,2,3,4], [5,6,7,8]])\n",
    "print(before)\n",
    "\n",
    "after = before.reshape((1,8))\n",
    "print(after)"
   ]
  },
  {
   "cell_type": "code",
   "execution_count": 29,
   "metadata": {},
   "outputs": [
    {
     "name": "stdout",
     "output_type": "stream",
     "text": [
      "[[1 2 3 4]\n",
      " [5 6 7 8]]\n",
      "[[1 2 3 4]\n",
      " [5 6 7 8]\n",
      " [1 2 3 4]\n",
      " [5 6 7 8]]\n"
     ]
    }
   ],
   "source": [
    "# Vertically stacking Vectors \n",
    "v1 = np.array([1,2,3,4])\n",
    "v2 = np.array([5,6,7,8])\n",
    "\n",
    "# Normsal way\n",
    "arr = np.vstack([v1, v2])\n",
    "# Can amke multiple\n",
    "arr2 = np.vstack([v1, v2,v1,v2])\n",
    "\n",
    "print(arr)\n",
    "print(arr2)"
   ]
  },
  {
   "cell_type": "code",
   "execution_count": 30,
   "metadata": {},
   "outputs": [
    {
     "name": "stdout",
     "output_type": "stream",
     "text": [
      "[1 2 3 4 5 6 7 8]\n"
     ]
    }
   ],
   "source": [
    "# Horizontal stack\n",
    "h1 = np.array([1,2,3,4])\n",
    "v2 = np.array([5,6,7,8])\n",
    "\n",
    "arr = np.hstack([h1, v2])\n",
    "print(arr)"
   ]
  },
  {
   "cell_type": "markdown",
   "metadata": {},
   "source": [
    "## Misc3llaneous"
   ]
  },
  {
   "cell_type": "markdown",
   "metadata": {},
   "source": [
    "Load Data from File"
   ]
  },
  {
   "cell_type": "code",
   "execution_count": 31,
   "metadata": {},
   "outputs": [
    {
     "ename": "ValueError",
     "evalue": "Some errors were detected !\n    Line #5 (got 1 columns instead of 2)\n    Line #6 (got 1 columns instead of 2)\n    Line #9 (got 1 columns instead of 2)\n    Line #10 (got 1 columns instead of 2)\n    Line #11 (got 1 columns instead of 2)\n    Line #12 (got 5 columns instead of 2)\n    Line #13 (got 5 columns instead of 2)\n    Line #15 (got 6 columns instead of 2)\n    Line #18 (got 1 columns instead of 2)\n    Line #19 (got 5 columns instead of 2)\n    Line #20 (got 6 columns instead of 2)\n    Line #21 (got 5 columns instead of 2)\n    Line #22 (got 1 columns instead of 2)\n    Line #23 (got 6 columns instead of 2)\n    Line #26 (got 6 columns instead of 2)\n    Line #29 (got 5 columns instead of 2)\n    Line #31 (got 1 columns instead of 2)\n    Line #32 (got 1 columns instead of 2)\n    Line #35 (got 1 columns instead of 2)\n    Line #36 (got 1 columns instead of 2)\n    Line #37 (got 1 columns instead of 2)\n    Line #38 (got 1 columns instead of 2)\n    Line #39 (got 1 columns instead of 2)\n    Line #40 (got 1 columns instead of 2)\n    Line #41 (got 1 columns instead of 2)\n    Line #44 (got 5 columns instead of 2)\n    Line #46 (got 1 columns instead of 2)\n    Line #49 (got 5 columns instead of 2)\n    Line #50 (got 5 columns instead of 2)\n    Line #52 (got 5 columns instead of 2)\n    Line #54 (got 1 columns instead of 2)\n    Line #55 (got 1 columns instead of 2)\n    Line #56 (got 1 columns instead of 2)\n    Line #57 (got 1 columns instead of 2)\n    Line #58 (got 1 columns instead of 2)\n    Line #59 (got 1 columns instead of 2)\n    Line #60 (got 1 columns instead of 2)\n    Line #61 (got 1 columns instead of 2)\n    Line #62 (got 1 columns instead of 2)\n    Line #63 (got 1 columns instead of 2)\n    Line #64 (got 5 columns instead of 2)\n    Line #65 (got 1 columns instead of 2)\n    Line #67 (got 1 columns instead of 2)\n    Line #68 (got 1 columns instead of 2)\n    Line #69 (got 1 columns instead of 2)\n    Line #70 (got 1 columns instead of 2)\n    Line #71 (got 1 columns instead of 2)\n    Line #72 (got 1 columns instead of 2)\n    Line #73 (got 1 columns instead of 2)\n    Line #74 (got 1 columns instead of 2)\n    Line #75 (got 1 columns instead of 2)\n    Line #76 (got 1 columns instead of 2)\n    Line #77 (got 1 columns instead of 2)\n    Line #78 (got 1 columns instead of 2)\n    Line #79 (got 1 columns instead of 2)\n    Line #80 (got 1 columns instead of 2)\n    Line #81 (got 5 columns instead of 2)\n    Line #82 (got 1 columns instead of 2)\n    Line #83 (got 1 columns instead of 2)\n    Line #84 (got 1 columns instead of 2)\n    Line #85 (got 1 columns instead of 2)\n    Line #87 (got 1 columns instead of 2)\n    Line #88 (got 1 columns instead of 2)\n    Line #89 (got 1 columns instead of 2)\n    Line #90 (got 1 columns instead of 2)\n    Line #91 (got 1 columns instead of 2)\n    Line #92 (got 1 columns instead of 2)\n    Line #93 (got 1 columns instead of 2)\n    Line #94 (got 1 columns instead of 2)\n    Line #95 (got 1 columns instead of 2)\n    Line #96 (got 1 columns instead of 2)\n    Line #97 (got 1 columns instead of 2)\n    Line #98 (got 1 columns instead of 2)\n    Line #99 (got 1 columns instead of 2)",
     "output_type": "error",
     "traceback": [
      "\u001b[0;31m---------------------------------------------------------------------------\u001b[0m",
      "\u001b[0;31mValueError\u001b[0m                                Traceback (most recent call last)",
      "Cell \u001b[0;32mIn[31], line 1\u001b[0m\n\u001b[0;32m----> 1\u001b[0m \u001b[43mnp\u001b[49m\u001b[38;5;241;43m.\u001b[39;49m\u001b[43mgenfromtxt\u001b[49m\u001b[43m(\u001b[49m\u001b[38;5;124;43m'\u001b[39;49m\u001b[38;5;124;43mdata.txt\u001b[39;49m\u001b[38;5;124;43m'\u001b[39;49m\u001b[43m,\u001b[49m\u001b[43m \u001b[49m\u001b[43mdelimiter\u001b[49m\u001b[38;5;241;43m=\u001b[39;49m\u001b[43m \u001b[49m\u001b[38;5;124;43m\"\u001b[39;49m\u001b[38;5;124;43m,\u001b[39;49m\u001b[38;5;124;43m\"\u001b[39;49m\u001b[43m)\u001b[49m\n",
      "File \u001b[0;32m~/Desktop/numpy/globalEnv/lib/python3.11/site-packages/numpy/lib/_npyio_impl.py:2332\u001b[0m, in \u001b[0;36mgenfromtxt\u001b[0;34m(fname, dtype, comments, delimiter, skip_header, skip_footer, converters, missing_values, filling_values, usecols, names, excludelist, deletechars, replace_space, autostrip, case_sensitive, defaultfmt, unpack, usemask, loose, invalid_raise, max_rows, encoding, ndmin, like)\u001b[0m\n\u001b[1;32m   2330\u001b[0m \u001b[38;5;66;03m# Raise an exception ?\u001b[39;00m\n\u001b[1;32m   2331\u001b[0m \u001b[38;5;28;01mif\u001b[39;00m invalid_raise:\n\u001b[0;32m-> 2332\u001b[0m     \u001b[38;5;28;01mraise\u001b[39;00m \u001b[38;5;167;01mValueError\u001b[39;00m(errmsg)\n\u001b[1;32m   2333\u001b[0m \u001b[38;5;66;03m# Issue a warning ?\u001b[39;00m\n\u001b[1;32m   2334\u001b[0m \u001b[38;5;28;01melse\u001b[39;00m:\n\u001b[1;32m   2335\u001b[0m     warnings\u001b[38;5;241m.\u001b[39mwarn(errmsg, ConversionWarning, stacklevel\u001b[38;5;241m=\u001b[39m\u001b[38;5;241m2\u001b[39m)\n",
      "\u001b[0;31mValueError\u001b[0m: Some errors were detected !\n    Line #5 (got 1 columns instead of 2)\n    Line #6 (got 1 columns instead of 2)\n    Line #9 (got 1 columns instead of 2)\n    Line #10 (got 1 columns instead of 2)\n    Line #11 (got 1 columns instead of 2)\n    Line #12 (got 5 columns instead of 2)\n    Line #13 (got 5 columns instead of 2)\n    Line #15 (got 6 columns instead of 2)\n    Line #18 (got 1 columns instead of 2)\n    Line #19 (got 5 columns instead of 2)\n    Line #20 (got 6 columns instead of 2)\n    Line #21 (got 5 columns instead of 2)\n    Line #22 (got 1 columns instead of 2)\n    Line #23 (got 6 columns instead of 2)\n    Line #26 (got 6 columns instead of 2)\n    Line #29 (got 5 columns instead of 2)\n    Line #31 (got 1 columns instead of 2)\n    Line #32 (got 1 columns instead of 2)\n    Line #35 (got 1 columns instead of 2)\n    Line #36 (got 1 columns instead of 2)\n    Line #37 (got 1 columns instead of 2)\n    Line #38 (got 1 columns instead of 2)\n    Line #39 (got 1 columns instead of 2)\n    Line #40 (got 1 columns instead of 2)\n    Line #41 (got 1 columns instead of 2)\n    Line #44 (got 5 columns instead of 2)\n    Line #46 (got 1 columns instead of 2)\n    Line #49 (got 5 columns instead of 2)\n    Line #50 (got 5 columns instead of 2)\n    Line #52 (got 5 columns instead of 2)\n    Line #54 (got 1 columns instead of 2)\n    Line #55 (got 1 columns instead of 2)\n    Line #56 (got 1 columns instead of 2)\n    Line #57 (got 1 columns instead of 2)\n    Line #58 (got 1 columns instead of 2)\n    Line #59 (got 1 columns instead of 2)\n    Line #60 (got 1 columns instead of 2)\n    Line #61 (got 1 columns instead of 2)\n    Line #62 (got 1 columns instead of 2)\n    Line #63 (got 1 columns instead of 2)\n    Line #64 (got 5 columns instead of 2)\n    Line #65 (got 1 columns instead of 2)\n    Line #67 (got 1 columns instead of 2)\n    Line #68 (got 1 columns instead of 2)\n    Line #69 (got 1 columns instead of 2)\n    Line #70 (got 1 columns instead of 2)\n    Line #71 (got 1 columns instead of 2)\n    Line #72 (got 1 columns instead of 2)\n    Line #73 (got 1 columns instead of 2)\n    Line #74 (got 1 columns instead of 2)\n    Line #75 (got 1 columns instead of 2)\n    Line #76 (got 1 columns instead of 2)\n    Line #77 (got 1 columns instead of 2)\n    Line #78 (got 1 columns instead of 2)\n    Line #79 (got 1 columns instead of 2)\n    Line #80 (got 1 columns instead of 2)\n    Line #81 (got 5 columns instead of 2)\n    Line #82 (got 1 columns instead of 2)\n    Line #83 (got 1 columns instead of 2)\n    Line #84 (got 1 columns instead of 2)\n    Line #85 (got 1 columns instead of 2)\n    Line #87 (got 1 columns instead of 2)\n    Line #88 (got 1 columns instead of 2)\n    Line #89 (got 1 columns instead of 2)\n    Line #90 (got 1 columns instead of 2)\n    Line #91 (got 1 columns instead of 2)\n    Line #92 (got 1 columns instead of 2)\n    Line #93 (got 1 columns instead of 2)\n    Line #94 (got 1 columns instead of 2)\n    Line #95 (got 1 columns instead of 2)\n    Line #96 (got 1 columns instead of 2)\n    Line #97 (got 1 columns instead of 2)\n    Line #98 (got 1 columns instead of 2)\n    Line #99 (got 1 columns instead of 2)"
     ]
    }
   ],
   "source": [
    "np.genfromtxt('data.txt', delimiter= \",\")"
   ]
  },
  {
   "cell_type": "markdown",
   "metadata": {},
   "source": [
    "![0]\n",
    "\n",
    "[0]: dataFormat.png"
   ]
  },
  {
   "cell_type": "markdown",
   "metadata": {},
   "source": [
    "this is for how to change this in an array "
   ]
  },
  {
   "cell_type": "markdown",
   "metadata": {},
   "source": []
  }
 ],
 "metadata": {
  "kernelspec": {
   "display_name": "globalEnv",
   "language": "python",
   "name": "python3"
  },
  "language_info": {
   "codemirror_mode": {
    "name": "ipython",
    "version": 3
   },
   "file_extension": ".py",
   "mimetype": "text/x-python",
   "name": "python",
   "nbconvert_exporter": "python",
   "pygments_lexer": "ipython3",
   "version": "3.11.2"
  }
 },
 "nbformat": 4,
 "nbformat_minor": 2
}
